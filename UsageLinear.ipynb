{
 "cells": [
  {
   "cell_type": "code",
   "execution_count": 75,
   "metadata": {},
   "outputs": [],
   "source": [
    "import torch\n",
    "import torch.nn as nn\n",
    "import torchvision\n",
    "import torchvision.transforms as transforms\n",
    "import matplotlib.pyplot as plt\n",
    "import sklearn\n",
    "from sklearn.linear_model import LinearRegression\n",
    "from sklearn import linear_model"
   ]
  },
  {
   "attachments": {},
   "cell_type": "markdown",
   "metadata": {},
   "source": []
  },
  {
   "cell_type": "code",
   "execution_count": 76,
   "metadata": {},
   "outputs": [],
   "source": [
    "# try running the following code, if you see errors on Windows OS\n",
    "import os\n",
    "os.environ['KMP_DUPLICATE_LIB_OK']='TRUE'"
   ]
  },
  {
   "cell_type": "code",
   "execution_count": 77,
   "metadata": {},
   "outputs": [
    {
     "data": {
      "text/html": [
       "<div>\n",
       "<style scoped>\n",
       "    .dataframe tbody tr th:only-of-type {\n",
       "        vertical-align: middle;\n",
       "    }\n",
       "\n",
       "    .dataframe tbody tr th {\n",
       "        vertical-align: top;\n",
       "    }\n",
       "\n",
       "    .dataframe thead th {\n",
       "        text-align: right;\n",
       "    }\n",
       "</style>\n",
       "<table border=\"1\" class=\"dataframe\">\n",
       "  <thead>\n",
       "    <tr style=\"text-align: right;\">\n",
       "      <th></th>\n",
       "      <th>date</th>\n",
       "      <th>Usage_kWh</th>\n",
       "      <th>Lagging_Current_Reactive.Power_kVarh</th>\n",
       "      <th>Leading_Current_Reactive_Power_kVarh</th>\n",
       "      <th>CO2(tCO2)</th>\n",
       "      <th>Lagging_Current_Power_Factor</th>\n",
       "      <th>Leading_Current_Power_Factor</th>\n",
       "      <th>NSM</th>\n",
       "      <th>WeekStatus</th>\n",
       "      <th>Day_of_week</th>\n",
       "      <th>Load_Type</th>\n",
       "    </tr>\n",
       "  </thead>\n",
       "  <tbody>\n",
       "    <tr>\n",
       "      <th>0</th>\n",
       "      <td>01/01/2018 00:15</td>\n",
       "      <td>3.17</td>\n",
       "      <td>2.95</td>\n",
       "      <td>0.0</td>\n",
       "      <td>0.0</td>\n",
       "      <td>73.21</td>\n",
       "      <td>100.0</td>\n",
       "      <td>900</td>\n",
       "      <td>Weekday</td>\n",
       "      <td>Monday</td>\n",
       "      <td>Light_Load</td>\n",
       "    </tr>\n",
       "    <tr>\n",
       "      <th>1</th>\n",
       "      <td>01/01/2018 00:30</td>\n",
       "      <td>4.00</td>\n",
       "      <td>4.46</td>\n",
       "      <td>0.0</td>\n",
       "      <td>0.0</td>\n",
       "      <td>66.77</td>\n",
       "      <td>100.0</td>\n",
       "      <td>1800</td>\n",
       "      <td>Weekday</td>\n",
       "      <td>Monday</td>\n",
       "      <td>Light_Load</td>\n",
       "    </tr>\n",
       "    <tr>\n",
       "      <th>2</th>\n",
       "      <td>01/01/2018 00:45</td>\n",
       "      <td>3.24</td>\n",
       "      <td>3.28</td>\n",
       "      <td>0.0</td>\n",
       "      <td>0.0</td>\n",
       "      <td>70.28</td>\n",
       "      <td>100.0</td>\n",
       "      <td>2700</td>\n",
       "      <td>Weekday</td>\n",
       "      <td>Monday</td>\n",
       "      <td>Light_Load</td>\n",
       "    </tr>\n",
       "    <tr>\n",
       "      <th>3</th>\n",
       "      <td>01/01/2018 01:00</td>\n",
       "      <td>3.31</td>\n",
       "      <td>3.56</td>\n",
       "      <td>0.0</td>\n",
       "      <td>0.0</td>\n",
       "      <td>68.09</td>\n",
       "      <td>100.0</td>\n",
       "      <td>3600</td>\n",
       "      <td>Weekday</td>\n",
       "      <td>Monday</td>\n",
       "      <td>Light_Load</td>\n",
       "    </tr>\n",
       "    <tr>\n",
       "      <th>4</th>\n",
       "      <td>01/01/2018 01:15</td>\n",
       "      <td>3.82</td>\n",
       "      <td>4.50</td>\n",
       "      <td>0.0</td>\n",
       "      <td>0.0</td>\n",
       "      <td>64.72</td>\n",
       "      <td>100.0</td>\n",
       "      <td>4500</td>\n",
       "      <td>Weekday</td>\n",
       "      <td>Monday</td>\n",
       "      <td>Light_Load</td>\n",
       "    </tr>\n",
       "  </tbody>\n",
       "</table>\n",
       "</div>"
      ],
      "text/plain": [
       "               date  Usage_kWh  Lagging_Current_Reactive.Power_kVarh  \\\n",
       "0  01/01/2018 00:15       3.17                                  2.95   \n",
       "1  01/01/2018 00:30       4.00                                  4.46   \n",
       "2  01/01/2018 00:45       3.24                                  3.28   \n",
       "3  01/01/2018 01:00       3.31                                  3.56   \n",
       "4  01/01/2018 01:15       3.82                                  4.50   \n",
       "\n",
       "   Leading_Current_Reactive_Power_kVarh  CO2(tCO2)  \\\n",
       "0                                   0.0        0.0   \n",
       "1                                   0.0        0.0   \n",
       "2                                   0.0        0.0   \n",
       "3                                   0.0        0.0   \n",
       "4                                   0.0        0.0   \n",
       "\n",
       "   Lagging_Current_Power_Factor  Leading_Current_Power_Factor   NSM  \\\n",
       "0                         73.21                         100.0   900   \n",
       "1                         66.77                         100.0  1800   \n",
       "2                         70.28                         100.0  2700   \n",
       "3                         68.09                         100.0  3600   \n",
       "4                         64.72                         100.0  4500   \n",
       "\n",
       "  WeekStatus Day_of_week   Load_Type  \n",
       "0    Weekday      Monday  Light_Load  \n",
       "1    Weekday      Monday  Light_Load  \n",
       "2    Weekday      Monday  Light_Load  \n",
       "3    Weekday      Monday  Light_Load  \n",
       "4    Weekday      Monday  Light_Load  "
      ]
     },
     "execution_count": 77,
     "metadata": {},
     "output_type": "execute_result"
    }
   ],
   "source": [
    "import pandas as pd\n",
    "import numpy as np\n",
    "\n",
    "# File to Load (Remember to Change These)\n",
    "file_to_load = \"Data\\Steel_industry_data.csv\"\n",
    "\n",
    "# Read Purchasing File and store into Pandas data frame\n",
    "steel_csv = pd.read_csv(file_to_load)\n",
    "steel_csv.head()"
   ]
  },
  {
   "cell_type": "code",
   "execution_count": 78,
   "metadata": {},
   "outputs": [
    {
     "data": {
      "text/html": [
       "<div>\n",
       "<style scoped>\n",
       "    .dataframe tbody tr th:only-of-type {\n",
       "        vertical-align: middle;\n",
       "    }\n",
       "\n",
       "    .dataframe tbody tr th {\n",
       "        vertical-align: top;\n",
       "    }\n",
       "\n",
       "    .dataframe thead th {\n",
       "        text-align: right;\n",
       "    }\n",
       "</style>\n",
       "<table border=\"1\" class=\"dataframe\">\n",
       "  <thead>\n",
       "    <tr style=\"text-align: right;\">\n",
       "      <th></th>\n",
       "      <th>date</th>\n",
       "      <th>Usage_kWh</th>\n",
       "      <th>Lagging_Current_Reactive.Power_kVarh</th>\n",
       "      <th>Leading_Current_Reactive_Power_kVarh</th>\n",
       "      <th>CO2(tCO2)</th>\n",
       "      <th>Lagging_Current_Power_Factor</th>\n",
       "      <th>Leading_Current_Power_Factor</th>\n",
       "      <th>NSM</th>\n",
       "      <th>WeekStatus</th>\n",
       "      <th>Day_of_week</th>\n",
       "      <th>Load_Type</th>\n",
       "    </tr>\n",
       "  </thead>\n",
       "  <tbody>\n",
       "    <tr>\n",
       "      <th>0</th>\n",
       "      <td>01/01/2018 00:15</td>\n",
       "      <td>3.17</td>\n",
       "      <td>2.95</td>\n",
       "      <td>0.0</td>\n",
       "      <td>0.0</td>\n",
       "      <td>73.21</td>\n",
       "      <td>100.0</td>\n",
       "      <td>900</td>\n",
       "      <td>1</td>\n",
       "      <td>1</td>\n",
       "      <td>0</td>\n",
       "    </tr>\n",
       "    <tr>\n",
       "      <th>1</th>\n",
       "      <td>01/01/2018 00:30</td>\n",
       "      <td>4.00</td>\n",
       "      <td>4.46</td>\n",
       "      <td>0.0</td>\n",
       "      <td>0.0</td>\n",
       "      <td>66.77</td>\n",
       "      <td>100.0</td>\n",
       "      <td>1800</td>\n",
       "      <td>1</td>\n",
       "      <td>1</td>\n",
       "      <td>0</td>\n",
       "    </tr>\n",
       "    <tr>\n",
       "      <th>2</th>\n",
       "      <td>01/01/2018 00:45</td>\n",
       "      <td>3.24</td>\n",
       "      <td>3.28</td>\n",
       "      <td>0.0</td>\n",
       "      <td>0.0</td>\n",
       "      <td>70.28</td>\n",
       "      <td>100.0</td>\n",
       "      <td>2700</td>\n",
       "      <td>1</td>\n",
       "      <td>1</td>\n",
       "      <td>0</td>\n",
       "    </tr>\n",
       "    <tr>\n",
       "      <th>3</th>\n",
       "      <td>01/01/2018 01:00</td>\n",
       "      <td>3.31</td>\n",
       "      <td>3.56</td>\n",
       "      <td>0.0</td>\n",
       "      <td>0.0</td>\n",
       "      <td>68.09</td>\n",
       "      <td>100.0</td>\n",
       "      <td>3600</td>\n",
       "      <td>1</td>\n",
       "      <td>1</td>\n",
       "      <td>0</td>\n",
       "    </tr>\n",
       "    <tr>\n",
       "      <th>4</th>\n",
       "      <td>01/01/2018 01:15</td>\n",
       "      <td>3.82</td>\n",
       "      <td>4.50</td>\n",
       "      <td>0.0</td>\n",
       "      <td>0.0</td>\n",
       "      <td>64.72</td>\n",
       "      <td>100.0</td>\n",
       "      <td>4500</td>\n",
       "      <td>1</td>\n",
       "      <td>1</td>\n",
       "      <td>0</td>\n",
       "    </tr>\n",
       "  </tbody>\n",
       "</table>\n",
       "</div>"
      ],
      "text/plain": [
       "               date  Usage_kWh  Lagging_Current_Reactive.Power_kVarh  \\\n",
       "0  01/01/2018 00:15       3.17                                  2.95   \n",
       "1  01/01/2018 00:30       4.00                                  4.46   \n",
       "2  01/01/2018 00:45       3.24                                  3.28   \n",
       "3  01/01/2018 01:00       3.31                                  3.56   \n",
       "4  01/01/2018 01:15       3.82                                  4.50   \n",
       "\n",
       "   Leading_Current_Reactive_Power_kVarh  CO2(tCO2)  \\\n",
       "0                                   0.0        0.0   \n",
       "1                                   0.0        0.0   \n",
       "2                                   0.0        0.0   \n",
       "3                                   0.0        0.0   \n",
       "4                                   0.0        0.0   \n",
       "\n",
       "   Lagging_Current_Power_Factor  Leading_Current_Power_Factor   NSM  \\\n",
       "0                         73.21                         100.0   900   \n",
       "1                         66.77                         100.0  1800   \n",
       "2                         70.28                         100.0  2700   \n",
       "3                         68.09                         100.0  3600   \n",
       "4                         64.72                         100.0  4500   \n",
       "\n",
       "   WeekStatus  Day_of_week  Load_Type  \n",
       "0           1            1          0  \n",
       "1           1            1          0  \n",
       "2           1            1          0  \n",
       "3           1            1          0  \n",
       "4           1            1          0  "
      ]
     },
     "execution_count": 78,
     "metadata": {},
     "output_type": "execute_result"
    }
   ],
   "source": [
    "steel_csv.Load_Type.replace(('Medium_Load', 'Light_Load', 'Maximum_Load'),(1, 0, 2), inplace=True)\n",
    "steel_csv.WeekStatus.replace(('Weekday', 'Weekend'),(1, 0), inplace=True)\n",
    "steel_csv.Day_of_week.replace(('Monday', 'Tuesday', 'Wednesday', 'Thursday', 'Friday', 'Saturday', 'Sunday'),(1, 2, 3, 4, 5, 6, 7), inplace=True)\n",
    "steel_csv.head()"
   ]
  },
  {
   "cell_type": "code",
   "execution_count": 79,
   "metadata": {},
   "outputs": [],
   "source": [
    "steel_weekday = steel_csv[steel_csv['WeekStatus'].isin([0])]\n",
    "steel_weekday = steel_csv[steel_csv['Load_Type'].isin([0])]\n",
    "steel_weekday\n",
    "steel_y = steel_weekday['Usage_kWh'].to_numpy()\n",
    "steel_x = steel_weekday[['Lagging_Current_Reactive.Power_kVarh','Leading_Current_Reactive_Power_kVarh','Lagging_Current_Power_Factor','Leading_Current_Power_Factor']].fillna(0).to_numpy()"
   ]
  },
  {
   "cell_type": "code",
   "execution_count": 80,
   "metadata": {},
   "outputs": [],
   "source": [
    "data_len = len(steel_weekday)\n",
    "steel_t = np.linspace(0, 0.25, data_len)\n",
    "train_data_ratio = 0.8\n",
    "data4train_len=(int)(data_len*train_data_ratio)\n",
    "steel_x4train = steel_x[0:data4train_len]\n",
    "steel_y4train = steel_y[0:data4train_len]\n",
    "steel_t4train = steel_t[0:data4train_len]\n",
    "\n",
    "steel_x4test = steel_x[data4train_len+1:data_len]\n",
    "steel_y4test = steel_y[data4train_len+1:data_len]\n",
    "steel_t4test = steel_t[data4train_len+1:data_len]\n",
    "steel_x4nntrain=torch.from_numpy(steel_x4train)\n",
    "steel_y4nntrain=torch.from_numpy(steel_y4train).type(torch.LongTensor)\n",
    "\n",
    "train = torch.utils.data.TensorDataset(steel_x4nntrain, steel_y4nntrain)\n"
   ]
  },
  {
   "cell_type": "code",
   "execution_count": 81,
   "metadata": {},
   "outputs": [
    {
     "data": {
      "text/plain": [
       "(array([1.37619527, 0.04902381, 0.26470644, 0.07056525]), -25.47461870979182)"
      ]
     },
     "execution_count": 81,
     "metadata": {},
     "output_type": "execute_result"
    }
   ],
   "source": [
    "reg_lasso = linear_model.Lasso(alpha=0.5)\n",
    "reg_lasso.fit(steel_x4train,steel_y4train)\n",
    "reg_lasso.coef_,reg_lasso.intercept_"
   ]
  },
  {
   "cell_type": "code",
   "execution_count": 82,
   "metadata": {},
   "outputs": [
    {
     "data": {
      "text/plain": [
       "4.08494190858504"
      ]
     },
     "execution_count": 82,
     "metadata": {},
     "output_type": "execute_result"
    }
   ],
   "source": [
    "from sklearn.metrics import mean_squared_error, r2_score\n",
    "steel_pred = reg_lasso.predict(steel_x4test)\n",
    "MSE=mean_squared_error(steel_y4test, steel_pred)\n",
    "np.sqrt(MSE)"
   ]
  },
  {
   "cell_type": "code",
   "execution_count": 83,
   "metadata": {},
   "outputs": [
    {
     "data": {
      "text/plain": [
       "113.43014808733813"
      ]
     },
     "execution_count": 83,
     "metadata": {},
     "output_type": "execute_result"
    }
   ],
   "source": [
    "max(steel_pred)"
   ]
  },
  {
   "cell_type": "code",
   "execution_count": 84,
   "metadata": {},
   "outputs": [
    {
     "data": {
      "text/plain": [
       "<matplotlib.collections.PathCollection at 0x1e60591e0d0>"
      ]
     },
     "execution_count": 84,
     "metadata": {},
     "output_type": "execute_result"
    },
    {
     "data": {
      "image/png": "[encoded data removed]",
      "text/plain": [
       "<Figure size 432x288 with 1 Axes>"
      ]
     },
     "metadata": {
      "needs_background": "light"
     },
     "output_type": "display_data"
    }
   ],
   "source": [
    "plt.scatter(steel_y4test,steel_pred)"
   ]
  }
 ],
 "metadata": {
  "kernelspec": {
   "display_name": "Python 3",
   "language": "python",
   "name": "python3"
  },
  "language_info": {
   "codemirror_mode": {
    "name": "ipython",
    "version": 3
   },
   "file_extension": ".py",
   "mimetype": "text/x-python",
   "name": "python",
   "nbconvert_exporter": "python",
   "pygments_lexer": "ipython3",
   "version": "3.8.7"
  },
  "orig_nbformat": 4
 },
 "nbformat": 4,
 "nbformat_minor": 2
}
